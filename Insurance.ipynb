{
 "cells": [
  {
   "cell_type": "code",
   "execution_count": 14,
   "id": "f8ee33ad-4368-4a63-b32e-608f7e1f03f2",
   "metadata": {},
   "outputs": [],
   "source": [
    "import numpy as np \n",
    "import pandas as pd \n",
    "import matplotlib.pyplot as plt\n",
    "from sklearn.model_selection import train_test_split\n",
    "from sklearn.linear_model import LinearRegression\n",
    "%matplotlib inline\n",
    "from sklearn.metrics import mean_squared_error, mean_absolute_error, r2_score\n",
    "from scipy.stats import zscore"
   ]
  },
  {
   "cell_type": "code",
   "execution_count": 12,
   "id": "3b1cd353-5a64-402c-9209-b2c2a446a739",
   "metadata": {},
   "outputs": [
    {
     "name": "stdout",
     "output_type": "stream",
     "text": [
      "<class 'pandas.core.frame.DataFrame'>\n",
      "RangeIndex: 1338 entries, 0 to 1337\n",
      "Data columns (total 7 columns):\n",
      " #   Column    Non-Null Count  Dtype  \n",
      "---  ------    --------------  -----  \n",
      " 0   age       1338 non-null   int64  \n",
      " 1   sex       1338 non-null   object \n",
      " 2   bmi       1338 non-null   float64\n",
      " 3   children  1338 non-null   int64  \n",
      " 4   smoker    1338 non-null   object \n",
      " 5   region    1338 non-null   object \n",
      " 6   charges   1338 non-null   float64\n",
      "dtypes: float64(2), int64(2), object(3)\n",
      "memory usage: 73.3+ KB\n",
      "Info of the dataset:\n",
      " None\n"
     ]
    }
   ],
   "source": [
    "insurance_data = pd.read_csv('insurance.csv')\n",
    "insurance_data.head()\n",
    "print(\"Info of the dataset:\\n\", insurance_data.info())"
   ]
  },
  {
   "cell_type": "code",
   "execution_count": 3,
   "id": "d081cba6-675d-45bb-924f-5a274ad7156a",
   "metadata": {},
   "outputs": [
    {
     "data": {
      "text/plain": [
       "age         0\n",
       "sex         0\n",
       "bmi         0\n",
       "children    0\n",
       "smoker      0\n",
       "region      0\n",
       "charges     0\n",
       "dtype: int64"
      ]
     },
     "execution_count": 3,
     "metadata": {},
     "output_type": "execute_result"
    }
   ],
   "source": [
    "insurance_data.isnull().sum()"
   ]
  },
  {
   "cell_type": "code",
   "execution_count": 4,
   "id": "f3e41e2e-8e29-4f20-801f-698e0b159b26",
   "metadata": {},
   "outputs": [
    {
     "data": {
      "text/plain": [
       "(1338, 7)"
      ]
     },
     "execution_count": 4,
     "metadata": {},
     "output_type": "execute_result"
    }
   ],
   "source": [
    "insurance_data.shape"
   ]
  },
  {
   "cell_type": "code",
   "execution_count": 5,
   "id": "78d13979-6b0d-445c-8078-e7440f9cb85a",
   "metadata": {},
   "outputs": [
    {
     "name": "stdout",
     "output_type": "stream",
     "text": [
      "     age   sex    bmi  children smoker     region    charges\n",
      "581   19  male  30.59         0     no  northwest  1639.5631\n"
     ]
    }
   ],
   "source": [
    "dup_rows = insurance_data[insurance_data.duplicated()]     //preprocessing\n",
    "print(dup_rows)    "
   ]
  },
  {
   "cell_type": "code",
   "execution_count": 6,
   "id": "e25afdd0-8784-4eb3-bfab-0421c0df118f",
   "metadata": {},
   "outputs": [
    {
     "data": {
      "text/html": [
       "<div>\n",
       "<style scoped>\n",
       "    .dataframe tbody tr th:only-of-type {\n",
       "        vertical-align: middle;\n",
       "    }\n",
       "\n",
       "    .dataframe tbody tr th {\n",
       "        vertical-align: top;\n",
       "    }\n",
       "\n",
       "    .dataframe thead th {\n",
       "        text-align: right;\n",
       "    }\n",
       "</style>\n",
       "<table border=\"1\" class=\"dataframe\">\n",
       "  <thead>\n",
       "    <tr style=\"text-align: right;\">\n",
       "      <th></th>\n",
       "      <th>age</th>\n",
       "      <th>bmi</th>\n",
       "      <th>children</th>\n",
       "      <th>charges</th>\n",
       "    </tr>\n",
       "  </thead>\n",
       "  <tbody>\n",
       "    <tr>\n",
       "      <th>count</th>\n",
       "      <td>1338.000000</td>\n",
       "      <td>1338.000000</td>\n",
       "      <td>1338.000000</td>\n",
       "      <td>1338.000000</td>\n",
       "    </tr>\n",
       "    <tr>\n",
       "      <th>mean</th>\n",
       "      <td>39.207025</td>\n",
       "      <td>30.663397</td>\n",
       "      <td>1.094918</td>\n",
       "      <td>13270.422265</td>\n",
       "    </tr>\n",
       "    <tr>\n",
       "      <th>std</th>\n",
       "      <td>14.049960</td>\n",
       "      <td>6.098187</td>\n",
       "      <td>1.205493</td>\n",
       "      <td>12110.011237</td>\n",
       "    </tr>\n",
       "    <tr>\n",
       "      <th>min</th>\n",
       "      <td>18.000000</td>\n",
       "      <td>15.960000</td>\n",
       "      <td>0.000000</td>\n",
       "      <td>1121.873900</td>\n",
       "    </tr>\n",
       "    <tr>\n",
       "      <th>25%</th>\n",
       "      <td>27.000000</td>\n",
       "      <td>26.296250</td>\n",
       "      <td>0.000000</td>\n",
       "      <td>4740.287150</td>\n",
       "    </tr>\n",
       "    <tr>\n",
       "      <th>50%</th>\n",
       "      <td>39.000000</td>\n",
       "      <td>30.400000</td>\n",
       "      <td>1.000000</td>\n",
       "      <td>9382.033000</td>\n",
       "    </tr>\n",
       "    <tr>\n",
       "      <th>75%</th>\n",
       "      <td>51.000000</td>\n",
       "      <td>34.693750</td>\n",
       "      <td>2.000000</td>\n",
       "      <td>16639.912515</td>\n",
       "    </tr>\n",
       "    <tr>\n",
       "      <th>max</th>\n",
       "      <td>64.000000</td>\n",
       "      <td>53.130000</td>\n",
       "      <td>5.000000</td>\n",
       "      <td>63770.428010</td>\n",
       "    </tr>\n",
       "  </tbody>\n",
       "</table>\n",
       "</div>"
      ],
      "text/plain": [
       "               age          bmi     children       charges\n",
       "count  1338.000000  1338.000000  1338.000000   1338.000000\n",
       "mean     39.207025    30.663397     1.094918  13270.422265\n",
       "std      14.049960     6.098187     1.205493  12110.011237\n",
       "min      18.000000    15.960000     0.000000   1121.873900\n",
       "25%      27.000000    26.296250     0.000000   4740.287150\n",
       "50%      39.000000    30.400000     1.000000   9382.033000\n",
       "75%      51.000000    34.693750     2.000000  16639.912515\n",
       "max      64.000000    53.130000     5.000000  63770.428010"
      ]
     },
     "execution_count": 6,
     "metadata": {},
     "output_type": "execute_result"
    }
   ],
   "source": [
    "insurance_data.describe()"
   ]
  },
  {
   "cell_type": "code",
   "execution_count": 7,
   "id": "6ae2428b-30a3-4c6e-885d-6b00aceb350f",
   "metadata": {},
   "outputs": [
    {
     "data": {
      "image/png": "[encoded data removed]",
      "text/plain": [
       "<Figure size 640x480 with 1 Axes>"
      ]
     },
     "metadata": {},
     "output_type": "display_data"
    }
   ],
   "source": [
    "x = insurance_data.iloc[:, 0].values\n",
    "y = insurance_data.iloc[:, -1].values\n",
    "x = x.reshape(-1, 1)\n",
    "y = y.reshape(-1, 1)\n",
    "plt.scatter(x, y, color='blue')\n",
    "plt.title('How Age Affect Insurance Cost')\n",
    "plt.xlabel('Age')\n",
    "plt.ylabel('Charges')\n",
    "plt.show()"
   ]
  },
  {
   "cell_type": "code",
   "execution_count": 8,
   "id": "2344523a-33b3-4f8c-baca-65aaeef95ff3",
   "metadata": {},
   "outputs": [
    {
     "data": {
      "text/html": [
       "<style>#sk-container-id-1 {color: black;background-color: white;}#sk-container-id-1 pre{padding: 0;}#sk-container-id-1 div.sk-toggleable {background-color: white;}#sk-container-id-1 label.sk-toggleable__label {cursor: pointer;display: block;width: 100%;margin-bottom: 0;padding: 0.3em;box-sizing: border-box;text-align: center;}#sk-container-id-1 label.sk-toggleable__label-arrow:before {content: \"▸\";float: left;margin-right: 0.25em;color: #696969;}#sk-container-id-1 label.sk-toggleable__label-arrow:hover:before {color: black;}#sk-container-id-1 div.sk-estimator:hover label.sk-toggleable__label-arrow:before {color: black;}#sk-container-id-1 div.sk-toggleable__content {max-height: 0;max-width: 0;overflow: hidden;text-align: left;background-color: #f0f8ff;}#sk-container-id-1 div.sk-toggleable__content pre {margin: 0.2em;color: black;border-radius: 0.25em;background-color: #f0f8ff;}#sk-container-id-1 input.sk-toggleable__control:checked~div.sk-toggleable__content {max-height: 200px;max-width: 100%;overflow: auto;}#sk-container-id-1 input.sk-toggleable__control:checked~label.sk-toggleable__label-arrow:before {content: \"▾\";}#sk-container-id-1 div.sk-estimator input.sk-toggleable__control:checked~label.sk-toggleable__label {background-color: #d4ebff;}#sk-container-id-1 div.sk-label input.sk-toggleable__control:checked~label.sk-toggleable__label {background-color: #d4ebff;}#sk-container-id-1 input.sk-hidden--visually {border: 0;clip: rect(1px 1px 1px 1px);clip: rect(1px, 1px, 1px, 1px);height: 1px;margin: -1px;overflow: hidden;padding: 0;position: absolute;width: 1px;}#sk-container-id-1 div.sk-estimator {font-family: monospace;background-color: #f0f8ff;border: 1px dotted black;border-radius: 0.25em;box-sizing: border-box;margin-bottom: 0.5em;}#sk-container-id-1 div.sk-estimator:hover {background-color: #d4ebff;}#sk-container-id-1 div.sk-parallel-item::after {content: \"\";width: 100%;border-bottom: 1px solid gray;flex-grow: 1;}#sk-container-id-1 div.sk-label:hover label.sk-toggleable__label {background-color: #d4ebff;}#sk-container-id-1 div.sk-serial::before {content: \"\";position: absolute;border-left: 1px solid gray;box-sizing: border-box;top: 0;bottom: 0;left: 50%;z-index: 0;}#sk-container-id-1 div.sk-serial {display: flex;flex-direction: column;align-items: center;background-color: white;padding-right: 0.2em;padding-left: 0.2em;position: relative;}#sk-container-id-1 div.sk-item {position: relative;z-index: 1;}#sk-container-id-1 div.sk-parallel {display: flex;align-items: stretch;justify-content: center;background-color: white;position: relative;}#sk-container-id-1 div.sk-item::before, #sk-container-id-1 div.sk-parallel-item::before {content: \"\";position: absolute;border-left: 1px solid gray;box-sizing: border-box;top: 0;bottom: 0;left: 50%;z-index: -1;}#sk-container-id-1 div.sk-parallel-item {display: flex;flex-direction: column;z-index: 1;position: relative;background-color: white;}#sk-container-id-1 div.sk-parallel-item:first-child::after {align-self: flex-end;width: 50%;}#sk-container-id-1 div.sk-parallel-item:last-child::after {align-self: flex-start;width: 50%;}#sk-container-id-1 div.sk-parallel-item:only-child::after {width: 0;}#sk-container-id-1 div.sk-dashed-wrapped {border: 1px dashed gray;margin: 0 0.4em 0.5em 0.4em;box-sizing: border-box;padding-bottom: 0.4em;background-color: white;}#sk-container-id-1 div.sk-label label {font-family: monospace;font-weight: bold;display: inline-block;line-height: 1.2em;}#sk-container-id-1 div.sk-label-container {text-align: center;}#sk-container-id-1 div.sk-container {/* jupyter's `normalize.less` sets `[hidden] { display: none; }` but bootstrap.min.css set `[hidden] { display: none !important; }` so we also need the `!important` here to be able to override the default hidden behavior on the sphinx rendered scikit-learn.org. See: https://github.com/scikit-learn/scikit-learn/issues/21755 */display: inline-block !important;position: relative;}#sk-container-id-1 div.sk-text-repr-fallback {display: none;}</style><div id=\"sk-container-id-1\" class=\"sk-top-container\"><div class=\"sk-text-repr-fallback\"><pre>LinearRegression()</pre><b>In a Jupyter environment, please rerun this cell to show the HTML representation or trust the notebook. <br />On GitHub, the HTML representation is unable to render, please try loading this page with nbviewer.org.</b></div><div class=\"sk-container\" hidden><div class=\"sk-item\"><div class=\"sk-estimator sk-toggleable\"><input class=\"sk-toggleable__control sk-hidden--visually\" id=\"sk-estimator-id-1\" type=\"checkbox\" checked><label for=\"sk-estimator-id-1\" class=\"sk-toggleable__label sk-toggleable__label-arrow\">LinearRegression</label><div class=\"sk-toggleable__content\"><pre>LinearRegression()</pre></div></div></div></div></div>"
      ],
      "text/plain": [
       "LinearRegression()"
      ]
     },
     "execution_count": 8,
     "metadata": {},
     "output_type": "execute_result"
    }
   ],
   "source": [
    "X = insurance_data.iloc[:, 0].values.reshape(-1, 1)\n",
    "Y = insurance_data.iloc[:, -1].values.reshape(-1, 1)\n",
    "                                                                                              //Model Training\n",
    "X_train, X_test, Y_train, Y_test = train_test_split(X, Y, test_size=0.2, random_state=0)\n",
    "\n",
    "charge_model = LinearRegression()\n",
    "charge_model.fit(X_train, Y_train)"
   ]
  },
  {
   "cell_type": "code",
   "execution_count": 9,
   "id": "a94f8d50-c874-4ed3-b80a-5c19c4d4546d",
   "metadata": {},
   "outputs": [
    {
     "name": "stdout",
     "output_type": "stream",
     "text": [
      "[[16278.18029845]\n",
      " [15086.32245041]\n",
      " [15324.69402002]\n",
      " [18423.52442491]\n",
      " [16039.80872884]\n",
      " [11987.49204552]\n",
      " [ 8173.54693181]\n",
      " [16039.80872884]\n",
      " [12940.97832395]\n",
      " [11272.3773367 ]\n",
      " [11987.49204552]\n",
      " [15801.43715924]\n",
      " [14132.83617199]\n",
      " [11749.12047592]\n",
      " [10318.89105828]\n",
      " [15801.43715924]\n",
      " [18185.15285531]\n",
      " [10080.51948867]\n",
      " [12940.97832395]\n",
      " [ 8650.29007103]\n",
      " [16039.80872884]\n",
      " [17231.66657688]\n",
      " [16278.18029845]\n",
      " [15086.32245041]\n",
      " [ 9127.03321024]\n",
      " [11510.74890631]\n",
      " [10557.26262788]\n",
      " [13417.72146317]\n",
      " [11272.3773367 ]\n",
      " [14609.5793112 ]\n",
      " [13417.72146317]\n",
      " [17946.7812857 ]\n",
      " [18661.89599452]\n",
      " [16993.29500727]\n",
      " [ 9603.77634946]\n",
      " [11034.0057671 ]\n",
      " [14847.95088081]\n",
      " [10557.26262788]\n",
      " [13417.72146317]\n",
      " [ 8650.29007103]\n",
      " [12464.23518474]\n",
      " [10795.63419749]\n",
      " [13179.34989356]\n",
      " [17708.40971609]\n",
      " [ 8173.54693181]\n",
      " [ 8888.66164063]\n",
      " [15801.43715924]\n",
      " [13894.46460238]\n",
      " [11034.0057671 ]\n",
      " [17470.03814648]\n",
      " [ 9365.40477985]\n",
      " [ 8411.91850142]\n",
      " [15324.69402002]\n",
      " [16039.80872884]\n",
      " [17708.40971609]\n",
      " [10557.26262788]\n",
      " [10080.51948867]\n",
      " [15801.43715924]\n",
      " [14132.83617199]\n",
      " [18185.15285531]\n",
      " [ 8411.91850142]\n",
      " [18661.89599452]\n",
      " [18185.15285531]\n",
      " [15801.43715924]\n",
      " [15324.69402002]\n",
      " [16039.80872884]\n",
      " [ 8411.91850142]\n",
      " [11272.3773367 ]\n",
      " [ 8888.66164063]\n",
      " [13417.72146317]\n",
      " [18423.52442491]\n",
      " [17470.03814648]\n",
      " [ 8650.29007103]\n",
      " [18900.26756413]\n",
      " [18185.15285531]\n",
      " [18185.15285531]\n",
      " [14847.95088081]\n",
      " [14371.20774159]\n",
      " [12702.60675435]\n",
      " [18423.52442491]\n",
      " [17231.66657688]\n",
      " [14132.83617199]\n",
      " [ 9127.03321024]\n",
      " [14609.5793112 ]\n",
      " [14132.83617199]\n",
      " [11987.49204552]\n",
      " [10080.51948867]\n",
      " [10080.51948867]\n",
      " [17946.7812857 ]\n",
      " [11034.0057671 ]\n",
      " [11510.74890631]\n",
      " [16993.29500727]\n",
      " [ 9842.14791906]\n",
      " [14609.5793112 ]\n",
      " [11987.49204552]\n",
      " [11510.74890631]\n",
      " [16993.29500727]\n",
      " [14371.20774159]\n",
      " [11272.3773367 ]\n",
      " [17231.66657688]\n",
      " [ 9365.40477985]\n",
      " [12464.23518474]\n",
      " [10557.26262788]\n",
      " [12464.23518474]\n",
      " [13894.46460238]\n",
      " [10318.89105828]\n",
      " [17231.66657688]\n",
      " [10557.26262788]\n",
      " [17708.40971609]\n",
      " [18185.15285531]\n",
      " [16754.92343766]\n",
      " [11034.0057671 ]\n",
      " [15324.69402002]\n",
      " [ 8173.54693181]\n",
      " [17470.03814648]\n",
      " [13894.46460238]\n",
      " [ 8650.29007103]\n",
      " [15801.43715924]\n",
      " [17946.7812857 ]\n",
      " [14847.95088081]\n",
      " [14132.83617199]\n",
      " [16278.18029845]\n",
      " [19138.63913373]\n",
      " [11034.0057671 ]\n",
      " [14371.20774159]\n",
      " [10795.63419749]\n",
      " [15086.32245041]\n",
      " [14609.5793112 ]\n",
      " [18185.15285531]\n",
      " [ 8888.66164063]\n",
      " [14371.20774159]\n",
      " [ 8173.54693181]\n",
      " [12940.97832395]\n",
      " [16039.80872884]\n",
      " [13894.46460238]\n",
      " [11987.49204552]\n",
      " [13894.46460238]\n",
      " [15801.43715924]\n",
      " [16516.55186806]\n",
      " [ 9365.40477985]\n",
      " [ 8650.29007103]\n",
      " [16993.29500727]\n",
      " [15563.06558963]\n",
      " [16754.92343766]\n",
      " [11987.49204552]\n",
      " [19138.63913373]\n",
      " [17946.7812857 ]\n",
      " [ 9365.40477985]\n",
      " [ 8411.91850142]\n",
      " [16754.92343766]\n",
      " [12940.97832395]\n",
      " [10318.89105828]\n",
      " [16039.80872884]\n",
      " [ 8173.54693181]\n",
      " [ 8411.91850142]\n",
      " [13417.72146317]\n",
      " [ 9127.03321024]\n",
      " [ 8173.54693181]\n",
      " [15801.43715924]\n",
      " [15086.32245041]\n",
      " [10318.89105828]\n",
      " [18661.89599452]\n",
      " [18185.15285531]\n",
      " [16039.80872884]\n",
      " [11510.74890631]\n",
      " [ 9603.77634946]\n",
      " [ 8411.91850142]\n",
      " [11272.3773367 ]\n",
      " [11272.3773367 ]\n",
      " [ 8173.54693181]\n",
      " [10318.89105828]\n",
      " [10557.26262788]\n",
      " [14132.83617199]\n",
      " [ 9603.77634946]\n",
      " [10318.89105828]\n",
      " [ 9842.14791906]\n",
      " [10557.26262788]\n",
      " [13179.34989356]\n",
      " [17946.7812857 ]\n",
      " [ 8173.54693181]\n",
      " [16278.18029845]\n",
      " [12702.60675435]\n",
      " [17470.03814648]\n",
      " [10318.89105828]\n",
      " [11987.49204552]\n",
      " [18661.89599452]\n",
      " [ 9127.03321024]\n",
      " [ 8888.66164063]\n",
      " [19138.63913373]\n",
      " [15563.06558963]\n",
      " [15801.43715924]\n",
      " [10080.51948867]\n",
      " [12464.23518474]\n",
      " [15324.69402002]\n",
      " [ 9842.14791906]\n",
      " [ 9603.77634946]\n",
      " [12702.60675435]\n",
      " [11749.12047592]\n",
      " [10795.63419749]\n",
      " [11272.3773367 ]\n",
      " [16754.92343766]\n",
      " [19138.63913373]\n",
      " [16993.29500727]\n",
      " [11272.3773367 ]\n",
      " [10795.63419749]\n",
      " [15086.32245041]\n",
      " [ 9842.14791906]\n",
      " [16278.18029845]\n",
      " [12225.86361513]\n",
      " [ 8173.54693181]\n",
      " [15324.69402002]\n",
      " [18661.89599452]\n",
      " [10557.26262788]\n",
      " [ 9365.40477985]\n",
      " [13656.09303277]\n",
      " [ 9603.77634946]\n",
      " [12464.23518474]\n",
      " [11749.12047592]\n",
      " [17946.7812857 ]\n",
      " [12702.60675435]\n",
      " [11987.49204552]\n",
      " [13179.34989356]\n",
      " [15324.69402002]\n",
      " [ 9842.14791906]\n",
      " [17708.40971609]\n",
      " [19138.63913373]\n",
      " [17231.66657688]\n",
      " [17708.40971609]\n",
      " [12940.97832395]\n",
      " [ 9842.14791906]\n",
      " [ 8173.54693181]\n",
      " [14847.95088081]\n",
      " [17946.7812857 ]\n",
      " [ 8173.54693181]\n",
      " [11510.74890631]\n",
      " [13656.09303277]\n",
      " [15324.69402002]\n",
      " [ 9603.77634946]\n",
      " [12940.97832395]\n",
      " [16516.55186806]\n",
      " [12940.97832395]\n",
      " [ 8650.29007103]\n",
      " [13656.09303277]\n",
      " [14132.83617199]\n",
      " [14132.83617199]\n",
      " [16516.55186806]\n",
      " [ 8888.66164063]\n",
      " [14132.83617199]\n",
      " [ 9127.03321024]\n",
      " [13656.09303277]\n",
      " [11034.0057671 ]\n",
      " [18900.26756413]\n",
      " [10080.51948867]\n",
      " [ 9842.14791906]\n",
      " [ 8173.54693181]\n",
      " [ 8173.54693181]\n",
      " [14609.5793112 ]\n",
      " [ 8173.54693181]\n",
      " [ 9842.14791906]\n",
      " [10318.89105828]\n",
      " [14609.5793112 ]\n",
      " [15801.43715924]\n",
      " [18661.89599452]\n",
      " [18661.89599452]\n",
      " [13656.09303277]\n",
      " [17470.03814648]\n",
      " [11034.0057671 ]\n",
      " [14847.95088081]]\n"
     ]
    }
   ],
   "source": [
    "Y_pred = charge_model.predict(X_test)\n",
    "print(Y_pred)"
   ]
  },
  {
   "cell_type": "code",
   "execution_count": 15,
   "id": "f577af48-be7f-425a-9296-f74f791ea611",
   "metadata": {},
   "outputs": [
    {
     "name": "stdout",
     "output_type": "stream",
     "text": [
      "Mean Squared Error: 139176465.01367894\n",
      "Mean Absolute Error: 9147.177402778987\n",
      "R2 Score: 0.12539120236863355\n"
     ]
    }
   ],
   "source": [
    "\n",
    "mse = mean_squared_error(Y_test, Y_pred)\n",
    "mae = mean_absolute_error(Y_test, Y_pred)\n",
    "r2 = r2_score(Y_test, Y_pred)                           //# Evaluation\n",
    "print(f\"Mean Squared Error: {mse}\")\n",
    "print(f\"Mean Absolute Error: {mae}\")\n",
    "print(f\"R2 Score: {r2}\")"
   ]
  },
  {
   "cell_type": "code",
   "execution_count": 10,
   "id": "c9b7b037-25d8-42bd-8fda-31401b07198e",
   "metadata": {},
   "outputs": [
    {
     "data": {
      "image/png": "[encoded data removed]",
      "text/plain": [
       "<Figure size 640x480 with 1 Axes>"
      ]
     },
     "metadata": {},
     "output_type": "display_data"
    }
   ],
   "source": [
    "plt.scatter(X_test, Y_test, color='green', label='Actual Charges')\n",
    "plt.plot(X_test, Y_pred, color='red', label='Predicted Charges')\n",
    "plt.title('Testing Data: How Age Affects Insurance Cost')\n",
    "plt.xlabel('Age')\n",
    "plt.ylabel('Charges')\n",
    "plt.legend()\n",
    "plt.show()"
   ]
  },
  {
   "cell_type": "code",
   "execution_count": null,
   "id": "e3131dd7-16bf-4b04-86d8-44de73125834",
   "metadata": {},
   "outputs": [],
   "source": []
  }
 ],
 "metadata": {
  "kernelspec": {
   "display_name": "Python 3 (ipykernel)",
   "language": "python",
   "name": "python3"
  },
  "language_info": {
   "codemirror_mode": {
    "name": "ipython",
    "version": 3
   },
   "file_extension": ".py",
   "mimetype": "text/x-python",
   "name": "python",
   "nbconvert_exporter": "python",
   "pygments_lexer": "ipython3",
   "version": "3.11.7"
  }
 },
 "nbformat": 4,
 "nbformat_minor": 5
}
